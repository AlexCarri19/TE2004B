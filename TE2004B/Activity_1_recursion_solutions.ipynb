{
 "cells": [
  {
   "cell_type": "markdown",
   "id": "ba55a51a",
   "metadata": {},
   "source": [
    "### Recursion"
   ]
  },
  {
   "cell_type": "code",
   "execution_count": null,
   "id": "c8e6d76a",
   "metadata": {},
   "outputs": [],
   "source": [
    "import random"
   ]
  },
  {
   "cell_type": "code",
   "execution_count": null,
   "id": "47fd86db",
   "metadata": {},
   "outputs": [],
   "source": [
    "a = [random.randint(0, 100) for _ in range(10)]"
   ]
  },
  {
   "cell_type": "code",
   "execution_count": null,
   "id": "d76bf915",
   "metadata": {},
   "outputs": [],
   "source": [
    "print(a)"
   ]
  },
  {
   "cell_type": "markdown",
   "id": "e1db29d1",
   "metadata": {},
   "source": [
    "#### Recursive sum"
   ]
  },
  {
   "cell_type": "code",
   "execution_count": null,
   "id": "a48e7d13",
   "metadata": {},
   "outputs": [],
   "source": [
    "def sum_recur(arr):\n",
    "    '''\n",
    "    Sum all the elements of\n",
    "    '''\n",
    "    if len(arr) == 0: return 0\n",
    "    else: return arr[0] + sum_recur(arr[1:])\n",
    "    "
   ]
  },
  {
   "cell_type": "markdown",
   "id": "fdf586c1",
   "metadata": {},
   "source": [
    "#### Recursive multiplication"
   ]
  },
  {
   "cell_type": "code",
   "execution_count": null,
   "id": "beec07fb",
   "metadata": {},
   "outputs": [],
   "source": [
    "def mult_recur(a, b):\n",
    "    if b == 1: return a\n",
    "    elif b == 0 or a == 0: return 0\n",
    "    else: \n",
    "        if b < 0 and a > 0:\n",
    "            return b + mult_recur(b, a-1)\n",
    "        elif b < 0 and a < 0: return abs(a) + mult_recur(abs(a), abs(b)-1)\n",
    "        return a + mult_recur(a, b-1)"
   ]
  },
  {
   "cell_type": "code",
   "execution_count": null,
   "id": "e0f38d84",
   "metadata": {},
   "outputs": [],
   "source": [
    "mult_recur(-8,-4)"
   ]
  },
  {
   "cell_type": "markdown",
   "id": "d863f9cf",
   "metadata": {},
   "source": [
    "#### Exponential"
   ]
  },
  {
   "cell_type": "code",
   "execution_count": null,
   "id": "387fc652",
   "metadata": {},
   "outputs": [],
   "source": [
    "def exp_recursive(a, n):\n",
    "    if n == 0: return 1\n",
    "    else:\n",
    "        aux = a * exp_recursive(a, abs(n)-1)\n",
    "        if n<0: return 1/aux\n",
    "        return aux"
   ]
  },
  {
   "cell_type": "code",
   "execution_count": null,
   "id": "e238ad22",
   "metadata": {},
   "outputs": [],
   "source": [
    "exp_recursive(-2, 3)"
   ]
  },
  {
   "cell_type": "markdown",
   "id": "16df0b93",
   "metadata": {},
   "source": [
    "#### Factorial"
   ]
  },
  {
   "cell_type": "code",
   "execution_count": null,
   "id": "2818966a",
   "metadata": {},
   "outputs": [],
   "source": [
    "def factorial1(n):\n",
    "    if n < 2: return 1\n",
    "    else: return n*factorial1(n-1)"
   ]
  },
  {
   "cell_type": "code",
   "execution_count": null,
   "id": "b2ee1350",
   "metadata": {},
   "outputs": [],
   "source": [
    "factorial1(40"
   ]
  },
  {
   "cell_type": "markdown",
   "id": "18b31068",
   "metadata": {},
   "source": [
    "#### Fibonacci"
   ]
  },
  {
   "cell_type": "code",
   "execution_count": null,
   "id": "2181409e",
   "metadata": {},
   "outputs": [],
   "source": [
    "def fib1(n):\n",
    "    if n <=2: return 1\n",
    "    else:\n",
    "        return fib1(n-2) + fib1(n-1)"
   ]
  },
  {
   "cell_type": "code",
   "execution_count": null,
   "id": "ca66beae",
   "metadata": {},
   "outputs": [],
   "source": [
    "fib1(5)"
   ]
  },
  {
   "cell_type": "code",
   "execution_count": null,
   "id": "a41c529f",
   "metadata": {},
   "outputs": [],
   "source": [
    "def fib2(n, d):\n",
    "    if n in d: return d[n]\n",
    "    elif n <= 2: return 1\n",
    "    else:\n",
    "        f = fib2(n-1, d) + fib2(n-2, d)\n",
    "        d[n] = f\n",
    "        return f"
   ]
  },
  {
   "cell_type": "code",
   "execution_count": null,
   "id": "9f58bba6",
   "metadata": {},
   "outputs": [],
   "source": [
    "fib2(400, {})"
   ]
  },
  {
   "cell_type": "markdown",
   "id": "c8155e10",
   "metadata": {},
   "source": [
    "#### GCD"
   ]
  },
  {
   "cell_type": "code",
   "execution_count": null,
   "id": "a99453c0",
   "metadata": {},
   "outputs": [],
   "source": [
    "def gcd(a, b):\n",
    "    if a%b == 0: return b\n",
    "    else: return gcd(b, a%b)"
   ]
  },
  {
   "cell_type": "code",
   "execution_count": null,
   "id": "909caa75",
   "metadata": {},
   "outputs": [],
   "source": [
    "gcd(224, 105)"
   ]
  },
  {
   "cell_type": "markdown",
   "id": "db4e18c0",
   "metadata": {},
   "source": [
    "#### Binary search"
   ]
  },
  {
   "cell_type": "markdown",
   "id": "b0e8b1ad",
   "metadata": {},
   "source": [
    "The following solution, although seemingly correct, presents a problem.\n",
    "\n",
    "Comment on what that problem is.\n",
    "\n",
    "Is your solution better, how?"
   ]
  },
  {
   "cell_type": "code",
   "execution_count": null,
   "id": "d83a1f83",
   "metadata": {},
   "outputs": [],
   "source": [
    "def binary_search(arr, item):\n",
    "    '''\n",
    "    arr: Arreglo (lista) ordenado\n",
    "    item: Elemento a buscar\n",
    "    '''\n",
    "    if arr == []: \n",
    "        return False\n",
    "    elif len(arr) == 1: \n",
    "        return arr[0] == item\n",
    "    else:\n",
    "        middle = (len(arr))//2\n",
    "        if item < arr[middle]: \n",
    "            return binary_search(arr[:middle], item) \n",
    "        \n",
    "        return binary_search(arr[middle:], item)"
   ]
  },
  {
   "cell_type": "code",
   "execution_count": null,
   "id": "cbc44905",
   "metadata": {},
   "outputs": [],
   "source": [
    "binary_search([3, 2], 5)"
   ]
  },
  {
   "cell_type": "code",
   "execution_count": null,
   "id": "7192db34",
   "metadata": {},
   "outputs": [],
   "source": []
  },
  {
   "cell_type": "code",
   "execution_count": null,
   "id": "16032e09",
   "metadata": {},
   "outputs": [],
   "source": []
  },
  {
   "cell_type": "code",
   "execution_count": null,
   "id": "8d5cc03c",
   "metadata": {},
   "outputs": [],
   "source": []
  },
  {
   "cell_type": "code",
   "execution_count": null,
   "id": "f11d1d94",
   "metadata": {},
   "outputs": [],
   "source": []
  },
  {
   "cell_type": "code",
   "execution_count": null,
   "id": "a908a5fc",
   "metadata": {},
   "outputs": [],
   "source": []
  },
  {
   "cell_type": "code",
   "execution_count": null,
   "id": "e24e1930",
   "metadata": {},
   "outputs": [],
   "source": []
  },
  {
   "cell_type": "code",
   "execution_count": null,
   "id": "07f859d8",
   "metadata": {},
   "outputs": [],
   "source": []
  },
  {
   "cell_type": "code",
   "execution_count": null,
   "id": "3e088583",
   "metadata": {},
   "outputs": [],
   "source": []
  },
  {
   "cell_type": "code",
   "execution_count": null,
   "id": "7835cae5",
   "metadata": {},
   "outputs": [],
   "source": []
  }
 ],
 "metadata": {
  "kernelspec": {
   "display_name": "Python 3 (ipykernel)",
   "language": "python",
   "name": "python3"
  },
  "language_info": {
   "codemirror_mode": {
    "name": "ipython",
    "version": 3
   },
   "file_extension": ".py",
   "mimetype": "text/x-python",
   "name": "python",
   "nbconvert_exporter": "python",
   "pygments_lexer": "ipython3",
   "version": "3.10.7"
  },
  "varInspector": {
   "cols": {
    "lenName": 16,
    "lenType": 16,
    "lenVar": 40
   },
   "kernels_config": {
    "python": {
     "delete_cmd_postfix": "",
     "delete_cmd_prefix": "del ",
     "library": "var_list.py",
     "varRefreshCmd": "print(var_dic_list())"
    },
    "r": {
     "delete_cmd_postfix": ") ",
     "delete_cmd_prefix": "rm(",
     "library": "var_list.r",
     "varRefreshCmd": "cat(var_dic_list()) "
    }
   },
   "position": {
    "height": "116.844px",
    "left": "741px",
    "right": "20px",
    "top": "966px",
    "width": "522px"
   },
   "types_to_exclude": [
    "module",
    "function",
    "builtin_function_or_method",
    "instance",
    "_Feature"
   ],
   "window_display": false
  }
 },
 "nbformat": 4,
 "nbformat_minor": 5
}
